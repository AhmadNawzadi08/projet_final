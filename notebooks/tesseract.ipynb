{
 "cells": [
  {
   "cell_type": "code",
   "execution_count": 6,
   "id": "f591afa8",
   "metadata": {},
   "outputs": [],
   "source": [
    "import pytesseract\n",
    "import cv2\n",
    "import re\n",
    "from pytesseract import Output\n",
    "from PIL import Image\n",
    "import os"
   ]
  },
  {
   "cell_type": "code",
   "execution_count": 12,
   "id": "63285338",
   "metadata": {},
   "outputs": [],
   "source": [
    "img = cv2.imread(\"./ind_id.png\")"
   ]
  },
  {
   "cell_type": "code",
   "execution_count": 3,
   "id": "6284d5f6",
   "metadata": {},
   "outputs": [],
   "source": [
    "#gray scale the image\n",
    "\n",
    "def grayscale(img):\n",
    "    img = cv2.cv2Color(img, COLOR_BGR2GRAY)\n",
    "    return img"
   ]
  },
  {
   "cell_type": "code",
   "execution_count": 4,
   "id": "ca70e30c",
   "metadata": {},
   "outputs": [],
   "source": [
    "#noise removal\n",
    "\n",
    "def blurimg(img, param):\n",
    "    img = cv2.medianBlur(img, param)\n",
    "    return img"
   ]
  },
  {
   "cell_type": "code",
   "execution_count": 5,
   "id": "f39e197c",
   "metadata": {},
   "outputs": [],
   "source": [
    "#tresholding\n",
    "\n",
    "def treshold(img):\n",
    "    img = cv2.threshold()"
   ]
  },
  {
   "cell_type": "code",
   "execution_count": 6,
   "id": "3aaffcec",
   "metadata": {},
   "outputs": [],
   "source": [
    "h, w, c = img.shape"
   ]
  },
  {
   "cell_type": "code",
   "execution_count": 7,
   "id": "f71f599a",
   "metadata": {},
   "outputs": [
    {
     "data": {
      "text/plain": [
       "(471, 771, 3)"
      ]
     },
     "execution_count": 7,
     "metadata": {},
     "output_type": "execute_result"
    }
   ],
   "source": [
    "img.shape"
   ]
  },
  {
   "cell_type": "code",
   "execution_count": 8,
   "id": "4efecec0",
   "metadata": {},
   "outputs": [],
   "source": [
    "boxes = pytesseract.image_to_boxes(img)\n",
    "\n",
    "for b in boxes.splitlines():\n",
    "    b = b.split(' ')\n",
    "    img = cv2.rectangle(img, (int(b[1]), h-int(b[2])), (int(b[3]), h-int(b[4])), (0, 255, 0), 2)\n",
    "    \n",
    "cv2.imshow('image', img)\n",
    "cv2.waitKey(0)\n",
    "cv2.destroyAllWindows()"
   ]
  },
  {
   "cell_type": "code",
   "execution_count": 9,
   "id": "fafc8173",
   "metadata": {},
   "outputs": [
    {
     "name": "stdout",
     "output_type": "stream",
     "text": [
      "dict_keys(['level', 'page_num', 'block_num', 'par_num', 'line_num', 'word_num', 'left', 'top', 'width', 'height', 'conf', 'text'])\n"
     ]
    }
   ],
   "source": [
    "# Read Text from Image and Draw Boxes on Words\n",
    "d = pytesseract.image_to_data(img, output_type=Output.DICT)\n",
    "print(d.keys())\n",
    "\n",
    "n_boxes = len(d['text'])\n",
    "\n",
    "for i in range(n_boxes):\n",
    "    if int(float(d['conf'][i])) > 60:\n",
    "        (x, y, w, h) = (d['left'][i], d['top'][i], d['width'][i], d['height'][i])\n",
    "        img = cv2.rectangle(img, (x, y), (x+w, y+h), (0, 255, 0), 2)\n",
    "        \n",
    "cv2.imshow('ima', img)\n",
    "cv2.waitKey(0)\n",
    "cv2.destroyAllWindows()"
   ]
  },
  {
   "cell_type": "code",
   "execution_count": null,
   "id": "cd93dd84",
   "metadata": {},
   "outputs": [],
   "source": []
  },
  {
   "cell_type": "code",
   "execution_count": 13,
   "id": "a0efdfa9",
   "metadata": {},
   "outputs": [
    {
     "name": "stdout",
     "output_type": "stream",
     "text": [
      "dict_keys(['level', 'page_num', 'block_num', 'par_num', 'line_num', 'word_num', 'left', 'top', 'width', 'height', 'conf', 'text'])\n"
     ]
    }
   ],
   "source": [
    "# Template Matching\n",
    "\n",
    "d = pytesseract.image_to_data(img, output_type=Output.DICT)\n",
    "print(d.keys())\n",
    "\n",
    "date_pattern = '^(0[1-9] |[12][0-9]| 2[0-9]|3[01])/(0[1-9] |1[012])/(19|20)\\d\\d$' \n",
    "n_boxes = len(d['text'])\n",
    "\n",
    "for i in range(n_boxes):\n",
    "    if int(float(d['conf'][i])) >40:\n",
    "        if re.match(date_pattern, d['text'][i]):\n",
    "            (x, y, w, h) = (d['left'][i], d['top'][i], d['width'][i], d['height'][i])\n",
    "            img = cv2.rectangle(img, (x, y), (x+w, y+h), (0, 255, 0), 2)\n",
    "            \n",
    "cv2.imshow('ima', img)\n",
    "cv2.waitKey(0)\n",
    "cv2.destroyAllWindows()"
   ]
  },
  {
   "cell_type": "code",
   "execution_count": 7,
   "id": "90a769ff",
   "metadata": {},
   "outputs": [],
   "source": [
    "path = \"../imgs\"\n",
    "number_of_files = len(os.listdir('./'))\n",
    "for i in range(0, number_of_files):\n",
    "    os.system(f\"tesseract fra.Credit_Card.exp{i}.png fra.Credit_Card.exp{i} batch.nochop makebox\")\n",
    "            "
   ]
  },
  {
   "cell_type": "code",
   "execution_count": null,
   "id": "62f37329",
   "metadata": {},
   "outputs": [],
   "source": []
  }
 ],
 "metadata": {
  "kernelspec": {
   "display_name": "Python 3 (ipykernel)",
   "language": "python",
   "name": "python3"
  },
  "language_info": {
   "codemirror_mode": {
    "name": "ipython",
    "version": 3
   },
   "file_extension": ".py",
   "mimetype": "text/x-python",
   "name": "python",
   "nbconvert_exporter": "python",
   "pygments_lexer": "ipython3",
   "version": "3.9.13"
  }
 },
 "nbformat": 4,
 "nbformat_minor": 5
}
